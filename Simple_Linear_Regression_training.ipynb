{
  "metadata": {
    "kernelspec": {
      "name": "python3",
      "display_name": "Python 3"
    },
    "language_info": {
      "name": "python",
      "version": "3.7.12",
      "mimetype": "text/x-python",
      "codemirror_mode": {
        "name": "ipython",
        "version": 3
      },
      "pygments_lexer": "ipython3",
      "nbconvert_exporter": "python",
      "file_extension": ".py"
    },
    "colab": {
      "provenance": []
    }
  },
  "nbformat_minor": 5,
  "nbformat": 4,
  "cells": [
    {
      "cell_type": "markdown",
      "source": [
        "# <center> Predicting Star Size | Linear Regression\n",
        "---\n",
        "\n",
        "<center> <img src = 'https://drive.google.com/uc?id=1Wr3rLlNCBU5qjr1s7o1l-O3DjgLDZIJi' width = 100%>\n",
        "\n",
        "---\n",
        "\n",
        "## <center> Linear Regression from Scratch\n",
        "\n",
        "---\n",
        "    \n"
      ],
      "metadata": {
        "id": "5hnR8DNhlCau"
      },
      "id": "5hnR8DNhlCau"
    },
    {
      "cell_type": "markdown",
      "source": [
        "**Recall the following topics before we start today's session:-**        \n",
        "**1)** Supervised Learning - When we train the ML algorithms with labeled data.       \n",
        "**2)** Forward Propagation - Consists of two steps which are computing the predicted output and the cost function.         \n",
        "**3)** Backpropagation - Consists of optimization algorithm which will be used to update the model parameters.         \n",
        "**4)** Training - For each epoch we calculate the loss and then update the model parameters.            \n",
        "**5)** Testing - Using new inputs whose respective outputs if we know, we can check how our model is performing.         \n",
        "\n",
        "    \n",
        "**Python Libraires that we need today:-**           \n",
        "**1)** NumPy       \n",
        "**2)** Matplotlib        \n",
        "**3)** Pandas\n",
        "    \n",
        "                                "
      ],
      "metadata": {
        "id": "38Zzj8-CVsDU"
      },
      "id": "38Zzj8-CVsDU"
    },
    {
      "cell_type": "markdown",
      "source": [
        "## Generating the Data for Linear Regression\n"
      ],
      "metadata": {
        "id": "usi6txxdlCax"
      },
      "id": "usi6txxdlCax"
    },
    {
      "cell_type": "code",
      "source": [
        "# Importing Libraries (numpy and pyplot)\n",
        "import numpy as np\n",
        "import matplotlib.pyplot as plt\n",
        "import pandas as pd"
      ],
      "metadata": {
        "id": "wqogQ0zflCay",
        "execution": {
          "iopub.status.busy": "2022-12-14T11:21:07.677357Z",
          "iopub.execute_input": "2022-12-14T11:21:07.677891Z",
          "iopub.status.idle": "2022-12-14T11:21:07.707082Z",
          "shell.execute_reply.started": "2022-12-14T11:21:07.677771Z",
          "shell.execute_reply": "2022-12-14T11:21:07.706177Z"
        },
        "trusted": true
      },
      "execution_count": null,
      "outputs": [],
      "id": "wqogQ0zflCay"
    },
    {
      "cell_type": "code",
      "source": [
        "# Use seed value of 100 so that everyone gets the same output!\n",
        "np.random.seed(100)\n",
        "\n",
        "# Generating Randomized dataset --> X_train and y_train\n",
        "'''\n",
        "X_train = 3*random numbers between 0 and 1 of shape (100, 1)\n",
        "y_train = 9 + 2*X_train + noise, where noise is a random number between 0 and 1 and its shape is (100, 1)\n",
        "The noise will allow to have some randomness in output instead of it simply being in a straight line\n",
        "\n",
        "Our goal of this session is to train ML model --> Linear Regression to predict the values of 9 and 2 in y_train\n",
        "In reality, we don't have y_train formula. Hence, we make ML model to predict what should be the formula!\n",
        "'''\n",
        "\n",
        "# Define the noise\n",
        "noise = np.random.random(size=(100, 1)) # numpy's random's function random will give outputs between [0, 1)\n",
        "\n",
        "# Define X_train (Input variable) and y_train (True outputs / Target)\n",
        "X_train = 3 * np.random.random(size=(100, 1))\n",
        "y_train = 9 + 2*X_train + noise # In real life, we just dataset without the equation, hence we find eqn of prediction\n",
        "\n",
        "# Scatter plot --> Figsize is (8,6), Xlabel is brightness, ylabel is Size, add title\n",
        "plt.scatter(X_train, y_train, color='royalblue')\n",
        "plt.xlabel('Brightness', color = 'm')\n",
        "plt.ylabel('Size', color = 'm')\n",
        "plt.title('Scatter Plot of Brightness vs Size', weight = 'bold', color = 'maroon')\n",
        "plt.show()"
      ],
      "metadata": {
        "id": "8135c1d1",
        "execution": {
          "iopub.status.busy": "2022-12-14T11:21:07.709092Z",
          "iopub.execute_input": "2022-12-14T11:21:07.710336Z",
          "iopub.status.idle": "2022-12-14T11:21:07.991112Z",
          "shell.execute_reply.started": "2022-12-14T11:21:07.710288Z",
          "shell.execute_reply": "2022-12-14T11:21:07.990254Z"
        },
        "trusted": true,
        "colab": {
          "base_uri": "https://localhost:8080/",
          "height": 472
        },
        "outputId": "69a28ee8-1d2e-401a-ce67-90a02ad0110a"
      },
      "execution_count": null,
      "outputs": [
        {
          "output_type": "display_data",
          "data": {
            "text/plain": [
              "<Figure size 640x480 with 1 Axes>"
            ],
            "image/png": "[encoded data removed]"
          },
          "metadata": {}
        }
      ],
      "id": "8135c1d1"
    },
    {
      "cell_type": "code",
      "source": [
        "# Print first 5 values in X_train and y_train\n",
        "print('First 5 values of X_train:-\\n', X_train[:5])\n",
        "print()\n",
        "print('First 5 values of y_train:-\\n', y_train[:5])"
      ],
      "metadata": {
        "id": "EjiGClgOENjn",
        "execution": {
          "iopub.status.busy": "2022-12-14T11:21:07.992361Z",
          "iopub.execute_input": "2022-12-14T11:21:07.993206Z",
          "iopub.status.idle": "2022-12-14T11:21:07.999926Z",
          "shell.execute_reply.started": "2022-12-14T11:21:07.993170Z",
          "shell.execute_reply": "2022-12-14T11:21:07.998527Z"
        },
        "trusted": true,
        "colab": {
          "base_uri": "https://localhost:8080/"
        },
        "outputId": "3d6ea3b5-6d8f-4538-e979-c341bea58e08"
      },
      "execution_count": null,
      "outputs": [
        {
          "output_type": "stream",
          "name": "stdout",
          "text": [
            "First 5 values of X_train:-\n",
            " [[2.33486765]\n",
            " [2.3387952 ]\n",
            " [1.83098446]\n",
            " [0.92700105]\n",
            " [2.09320472]]\n",
            "\n",
            "First 5 values of y_train:-\n",
            " [[14.21314023]\n",
            " [13.95595978]\n",
            " [13.08648651]\n",
            " [11.69877822]\n",
            " [13.1911283 ]]\n"
          ]
        }
      ],
      "id": "EjiGClgOENjn"
    },
    {
      "cell_type": "code",
      "source": [
        "# Check what happens if you remove the noise! --> Remove noise from the y_train and plot again\n",
        "plt.scatter(X_train, y_train-noise, color='royalblue')\n",
        "plt.xlabel('Brightness', color = 'm')\n",
        "plt.ylabel('Size', color = 'm')\n",
        "plt.title('Brightness vs Size (Without Noise)', weight = 'bold', color = 'maroon')\n",
        "plt.show()"
      ],
      "metadata": {
        "id": "hB1w0wKew-9p",
        "colab": {
          "base_uri": "https://localhost:8080/",
          "height": 472
        },
        "outputId": "1edf7058-30ce-4a6e-90eb-ab588b2b6af8"
      },
      "id": "hB1w0wKew-9p",
      "execution_count": null,
      "outputs": [
        {
          "output_type": "display_data",
          "data": {
            "text/plain": [
              "<Figure size 640x480 with 1 Axes>"
            ],
            "image/png": "[encoded data removed]"
          },
          "metadata": {}
        }
      ]
    },
    {
      "cell_type": "markdown",
      "source": [
        "- This will be a pure straight line\n",
        "- We can find gradient and y-intercept without ML\n",
        "- So to apply ML we need data to be realistic\n",
        "- Hence, to mimic the real conditions we add some noise"
      ],
      "metadata": {
        "id": "2lZjiKRJwKTv"
      },
      "id": "2lZjiKRJwKTv"
    },
    {
      "cell_type": "markdown",
      "source": [
        "## Model Parameters and Hyperparameters\n",
        "\n",
        "Remember that instead of using gradient and y-intercept, we will be using the actual model parameters for ML algorithms - Weight and Bias!"
      ],
      "metadata": {
        "id": "C3qy8Ov6lCa0"
      },
      "id": "C3qy8Ov6lCa0"
    },
    {
      "cell_type": "code",
      "source": [
        "# Initialise the weight (W) and bias (b) to 0\n",
        "W = 0\n",
        "b = 0\n",
        "\n",
        "# Hyperparameters --> Choose approproate learning_rate (0.01)\n",
        "learning_rate = 0.01"
      ],
      "metadata": {
        "id": "22397f92",
        "execution": {
          "iopub.status.busy": "2022-12-14T11:21:08.002586Z",
          "iopub.execute_input": "2022-12-14T11:21:08.003031Z",
          "iopub.status.idle": "2022-12-14T11:21:08.012646Z",
          "shell.execute_reply.started": "2022-12-14T11:21:08.002998Z",
          "shell.execute_reply": "2022-12-14T11:21:08.011288Z"
        },
        "trusted": true
      },
      "execution_count": null,
      "outputs": [],
      "id": "22397f92"
    },
    {
      "cell_type": "markdown",
      "source": [
        "<img src = \"https://drive.google.com/uc?id=1mFaXv4XF-_b-jyP_MK2vfgYfB2dVd4RZ\">\n",
        "\n",
        "## Computing equations for the forward propagation"
      ],
      "metadata": {
        "id": "uXi2j5fVlCa1"
      },
      "id": "uXi2j5fVlCa1"
    },
    {
      "cell_type": "code",
      "source": [
        "# Create a function for Predicted Output\n",
        "def predict(X, W, b):\n",
        "    '''\n",
        "    X - Inputs\n",
        "    W - Weight\n",
        "    b - Bias\n",
        "\n",
        "    Returns - Predicted output\n",
        "    '''\n",
        "    return W*X + b\n",
        "\n",
        "# MSE cost function\n",
        "def cost_function(X, y, W, b):\n",
        "    '''\n",
        "    y - target values / true values\n",
        "    Returns - MSE\n",
        "    '''\n",
        "    y_cap = predict(X, W, b)\n",
        "    mse_cost = np.mean((y - y_cap)**2)\n",
        "    return mse_cost"
      ],
      "metadata": {
        "id": "f6643906",
        "execution": {
          "iopub.status.busy": "2022-12-14T11:21:08.026493Z",
          "iopub.execute_input": "2022-12-14T11:21:08.026885Z",
          "iopub.status.idle": "2022-12-14T11:21:08.036996Z",
          "shell.execute_reply.started": "2022-12-14T11:21:08.026844Z",
          "shell.execute_reply": "2022-12-14T11:21:08.035848Z"
        },
        "trusted": true
      },
      "execution_count": null,
      "outputs": [],
      "id": "f6643906"
    },
    {
      "cell_type": "code",
      "source": [
        "# Check that cost function is not giving any errors!\n",
        "cost_function(X_train, y_train, W, b)"
      ],
      "metadata": {
        "colab": {
          "base_uri": "https://localhost:8080/"
        },
        "id": "nwlL03AE2pyh",
        "outputId": "f18eeec4-fc40-48c2-90b4-bd62372494aa"
      },
      "id": "nwlL03AE2pyh",
      "execution_count": null,
      "outputs": [
        {
          "output_type": "execute_result",
          "data": {
            "text/plain": [
              "161.44989262947942"
            ]
          },
          "metadata": {},
          "execution_count": 19
        }
      ]
    },
    {
      "cell_type": "markdown",
      "source": [
        "<img src = 'https://drive.google.com/uc?id=1ZlXFrHr4ix4w2ND9e1QMZqaMuplh-PTh'>\n",
        "\n",
        "## Computing equations for the backpropagation\n"
      ],
      "metadata": {
        "id": "1U2-9DjSXbT1"
      },
      "id": "1U2-9DjSXbT1"
    },
    {
      "cell_type": "code",
      "source": [
        "def update_weights(X, y, W, b, learning_rate):\n",
        "    '''\n",
        "    This function computes all the equations needed for the backpropagation in Linear Regression\n",
        "    '''\n",
        "\n",
        "    # Gradients for cost wrt model parameters\n",
        "    dLdW = np.mean(-2 * X * (y - predict(X, W, b)))\n",
        "    dLdb = np.mean(-2 * (y - predict(X, W, b)))\n",
        "\n",
        "    # Gradient Descent Optimizer (theta_new = theta_prev - learning_rate*dL_dtheta)\n",
        "    W = W - learning_rate*dLdW\n",
        "    b = b - learning_rate*dLdb\n",
        "\n",
        "    return W, b"
      ],
      "metadata": {
        "id": "ba1cd681",
        "execution": {
          "iopub.status.busy": "2022-12-14T11:21:08.038740Z",
          "iopub.execute_input": "2022-12-14T11:21:08.039166Z",
          "iopub.status.idle": "2022-12-14T11:21:08.049570Z",
          "shell.execute_reply.started": "2022-12-14T11:21:08.039130Z",
          "shell.execute_reply": "2022-12-14T11:21:08.048520Z"
        },
        "trusted": true
      },
      "execution_count": null,
      "outputs": [],
      "id": "ba1cd681"
    },
    {
      "cell_type": "code",
      "source": [
        "# Check if update_weights function is not giving any errors\n",
        "update_weights(X_train, y_train, W, b, learning_rate)"
      ],
      "metadata": {
        "colab": {
          "base_uri": "https://localhost:8080/"
        },
        "id": "0Mi8hKQm4dXC",
        "outputId": "0092fa5a-8d51-4fb9-80bb-22d353d795e2"
      },
      "id": "0Mi8hKQm4dXC",
      "execution_count": null,
      "outputs": [
        {
          "output_type": "execute_result",
          "data": {
            "text/plain": [
              "(0.4215805946321207, 0.25175313050147874)"
            ]
          },
          "metadata": {},
          "execution_count": 21
        }
      ]
    },
    {
      "cell_type": "code",
      "source": [
        "# Epoch by epoch train the linear regression to get the best value for W and b\n",
        "def train(X, y, W, b, learning_rate, tol=1e-13, n_epochs=100, verbose=False):\n",
        "    '''\n",
        "    This function trains the linear regression epoch by epoch\n",
        "    tol - Threshold for when the training should stop based on convergence\n",
        "    verbose - Display the training if it is set to True\n",
        "    '''\n",
        "\n",
        "    weights = [W]\n",
        "    biases = [b]\n",
        "    costs = []\n",
        "\n",
        "\n",
        "    # Training Loop\n",
        "    '''\n",
        "    Until Cost Convergers do the following:-\n",
        "    1) Get the cost value on the current W and b value\n",
        "    2) Append that cost value to the costs list\n",
        "    3) If we have more than 1 cost value in costs list then compare if it has coverged\n",
        "    4) If converged correct to 13 dp, then stop the training loop or else continue the training process\n",
        "\n",
        "    At the same time, you can print the values of W, b and the respective cost after every n epochs\n",
        "    '''\n",
        "\n",
        "    # Prepare the counter to monitor the training\n",
        "    ct = 1\n",
        "\n",
        "    # Start the training loop here\n",
        "    while True:\n",
        "\n",
        "      # 1) Calculate the cost\n",
        "      cost = cost_function(X, y, W, b)\n",
        "\n",
        "      # 2) Append the cost value to costs list\n",
        "      costs.append(cost)\n",
        "\n",
        "      # 3) Check if the cost has converged if more than one cost value in the costs list\n",
        "      if len(costs) > 1 and abs(costs[-1] - costs[-2]) < tol:\n",
        "        break\n",
        "\n",
        "      # 4) If costs have not converged, update the model parameters\n",
        "      W, b = update_weights(X, y, W, b, learning_rate)\n",
        "\n",
        "      # 5) Append the updated W and b to the weights and biases list\n",
        "      weights.append(W)\n",
        "      biases.append(b)\n",
        "\n",
        "      # 6) After every n_epochs I want to display my training result\n",
        "      if verbose and ct % n_epochs == 0:\n",
        "        print(f'After {ct}:- W = {W}, b = {b}, cost = {cost}')\n",
        "\n",
        "      # 7) Update the counter after epoch is completed to keep track for epochs\n",
        "      ct += 1\n",
        "\n",
        "    return weights, biases, costs, ct"
      ],
      "metadata": {
        "id": "bf2d8e30",
        "execution": {
          "iopub.status.busy": "2022-12-14T11:21:08.051429Z",
          "iopub.execute_input": "2022-12-14T11:21:08.052106Z",
          "iopub.status.idle": "2022-12-14T11:21:08.065419Z",
          "shell.execute_reply.started": "2022-12-14T11:21:08.052069Z",
          "shell.execute_reply": "2022-12-14T11:21:08.064089Z"
        },
        "trusted": true
      },
      "execution_count": null,
      "outputs": [],
      "id": "bf2d8e30"
    },
    {
      "cell_type": "code",
      "source": [
        "# Train the linear regression model\n",
        "weights, biases, costs, iteration_count = train(X_train, y_train, W, b, learning_rate, verbose=True)"
      ],
      "metadata": {
        "id": "11396b5c",
        "execution": {
          "iopub.status.busy": "2022-12-14T11:21:08.069104Z",
          "iopub.execute_input": "2022-12-14T11:21:08.070125Z",
          "iopub.status.idle": "2022-12-14T11:21:08.386822Z",
          "shell.execute_reply.started": "2022-12-14T11:21:08.070085Z",
          "shell.execute_reply": "2022-12-14T11:21:08.385549Z"
        },
        "trusted": true,
        "colab": {
          "base_uri": "https://localhost:8080/"
        },
        "outputId": "8cdef1e8-5005-43b0-fc90-0964a49cf738"
      },
      "execution_count": null,
      "outputs": [
        {
          "output_type": "stream",
          "name": "stdout",
          "text": [
            "After 100:- W = 4.371270980255095, b = 4.9223675279927726, cost = 5.09357952602552\n",
            "After 200:- W = 3.627260111648974, b = 6.350228346474647, cost = 2.456398870793634\n",
            "After 300:- W = 3.114290632476111, b = 7.332411667839953, cost = 1.207342476597626\n",
            "After 400:- W = 2.7612588545764885, b = 8.008361502107816, cost = 0.615745393165454\n",
            "After 500:- W = 2.5182982897188375, b = 8.473558019193861, cost = 0.33554418627685595\n",
            "After 600:- W = 2.3510900105855543, b = 8.793711658638683, cost = 0.202831029737385\n",
            "After 700:- W = 2.2360153332316717, b = 9.014045107160197, cost = 0.13997340640933104\n",
            "After 800:- W = 2.156819605384098, b = 9.165681142351206, cost = 0.11020182299230447\n",
            "After 900:- W = 2.102316186790805, b = 9.270038820782414, cost = 0.09610095292709307\n",
            "After 1000:- W = 2.0648063018627574, b = 9.341858985651754, cost = 0.08942228441924822\n",
            "After 1100:- W = 2.0389915639320098, b = 9.391286456245215, cost = 0.08625903188012053\n",
            "After 1200:- W = 2.021225561831194, b = 9.425303014877619, cost = 0.08476080410993829\n",
            "After 1300:- W = 2.0089987930957176, b = 9.44871360512831, cost = 0.08405119069033937\n",
            "After 1400:- W = 2.000584189018642, b = 9.464825044907052, cost = 0.08371509279167762\n",
            "After 1500:- W = 1.9947931608814635, b = 9.475913124659174, cost = 0.0835559049939769\n",
            "After 1600:- W = 1.9908077081402022, b = 9.483544069768854, cost = 0.0834805080485104\n",
            "After 1700:- W = 1.988064873331503, b = 9.488795774714045, cost = 0.08344479740066062\n",
            "After 1800:- W = 1.986177222598644, b = 9.492410058978306, cost = 0.08342788358058524\n",
            "After 1900:- W = 1.9848781194671075, b = 9.494897451335497, cost = 0.08341987259991791\n",
            "After 2000:- W = 1.9839840616220954, b = 9.49660930361003, cost = 0.08341607831743378\n",
            "After 2100:- W = 1.9833687606418773, b = 9.49778742020325, cost = 0.08341428121166508\n",
            "After 2200:- W = 1.98294530336966, b = 9.498598213709126, cost = 0.08341343003910297\n",
            "After 2300:- W = 1.9826538751627183, b = 9.499156211205257, cost = 0.0834130268938106\n",
            "After 2400:- W = 1.982453310890069, b = 9.499540231554992, cost = 0.08341283595000668\n",
            "After 2500:- W = 1.9823152802310369, b = 9.499804518814411, cost = 0.08341274551229867\n",
            "After 2600:- W = 1.9822202859303033, b = 9.499986404372137, cost = 0.08341270267781606\n",
            "After 2700:- W = 1.9821549097505828, b = 9.500111580122876, cost = 0.08341268238989719\n",
            "After 2800:- W = 1.9821099171053242, b = 9.500197727526595, cost = 0.08341267278082443\n",
            "After 2900:- W = 1.9820789526449294, b = 9.500257015169172, cost = 0.08341266822962927\n",
            "After 3000:- W = 1.9820576425440901, b = 9.500297817612541, cost = 0.08341266607402308\n",
            "After 3100:- W = 1.9820429766854928, b = 9.500325898327384, cost = 0.08341266505305202\n",
            "After 3200:- W = 1.9820328834714762, b = 9.500345223801087, cost = 0.08341266456948414\n",
            "After 3300:- W = 1.9820259372045064, b = 9.500358523816269, cost = 0.08341266434044949\n",
            "After 3400:- W = 1.982021156703002, b = 9.500367677040996, cost = 0.08341266423197059\n",
            "After 3500:- W = 1.9820178667064114, b = 9.50037397639643, cost = 0.0834126641805911\n",
            "After 3600:- W = 1.9820156024925946, b = 9.50037831168591, cost = 0.083412664156256\n"
          ]
        }
      ],
      "id": "11396b5c"
    },
    {
      "cell_type": "code",
      "source": [
        "# Comparing initial and final values\n",
        "initial = [weights[0], biases[0], costs[0]]\n",
        "final = [weights[-1], biases[-1], costs[-1]]\n",
        "df = pd.DataFrame(list(zip(initial,final)),\n",
        "                  columns = ['Initial', 'Final'],\n",
        "                  index = ['Weight', 'Bias', 'Cost'])\n",
        "df"
      ],
      "metadata": {
        "id": "d59d388b",
        "execution": {
          "iopub.status.busy": "2022-12-14T11:21:08.388563Z",
          "iopub.execute_input": "2022-12-14T11:21:08.389343Z",
          "iopub.status.idle": "2022-12-14T11:21:08.413569Z",
          "shell.execute_reply.started": "2022-12-14T11:21:08.389294Z",
          "shell.execute_reply": "2022-12-14T11:21:08.412495Z"
        },
        "trusted": true,
        "colab": {
          "base_uri": "https://localhost:8080/",
          "height": 143
        },
        "outputId": "a50fcb88-2f27-4cb8-db3b-4ac7cf8d3136"
      },
      "execution_count": null,
      "outputs": [
        {
          "output_type": "execute_result",
          "data": {
            "text/plain": [
              "           Initial     Final\n",
              "Weight    0.000000  1.982015\n",
              "Bias      0.000000  9.500380\n",
              "Cost    161.449893  0.083413"
            ],
            "text/html": [
              "\n",
              "  <div id=\"df-a3979412-75e5-4f87-b54e-2fabe899e14e\" class=\"colab-df-container\">\n",
              "    <div>\n",
              "<style scoped>\n",
              "    .dataframe tbody tr th:only-of-type {\n",
              "        vertical-align: middle;\n",
              "    }\n",
              "\n",
              "    .dataframe tbody tr th {\n",
              "        vertical-align: top;\n",
              "    }\n",
              "\n",
              "    .dataframe thead th {\n",
              "        text-align: right;\n",
              "    }\n",
              "</style>\n",
              "<table border=\"1\" class=\"dataframe\">\n",
              "  <thead>\n",
              "    <tr style=\"text-align: right;\">\n",
              "      <th></th>\n",
              "      <th>Initial</th>\n",
              "      <th>Final</th>\n",
              "    </tr>\n",
              "  </thead>\n",
              "  <tbody>\n",
              "    <tr>\n",
              "      <th>Weight</th>\n",
              "      <td>0.000000</td>\n",
              "      <td>1.982015</td>\n",
              "    </tr>\n",
              "    <tr>\n",
              "      <th>Bias</th>\n",
              "      <td>0.000000</td>\n",
              "      <td>9.500380</td>\n",
              "    </tr>\n",
              "    <tr>\n",
              "      <th>Cost</th>\n",
              "      <td>161.449893</td>\n",
              "      <td>0.083413</td>\n",
              "    </tr>\n",
              "  </tbody>\n",
              "</table>\n",
              "</div>\n",
              "    <div class=\"colab-df-buttons\">\n",
              "\n",
              "  <div class=\"colab-df-container\">\n",
              "    <button class=\"colab-df-convert\" onclick=\"convertToInteractive('df-a3979412-75e5-4f87-b54e-2fabe899e14e')\"\n",
              "            title=\"Convert this dataframe to an interactive table.\"\n",
              "            style=\"display:none;\">\n",
              "\n",
              "  <svg xmlns=\"http://www.w3.org/2000/svg\" height=\"24px\" viewBox=\"0 -960 960 960\">\n",
              "    <path d=\"M120-120v-720h720v720H120Zm60-500h600v-160H180v160Zm220 220h160v-160H400v160Zm0 220h160v-160H400v160ZM180-400h160v-160H180v160Zm440 0h160v-160H620v160ZM180-180h160v-160H180v160Zm440 0h160v-160H620v160Z\"/>\n",
              "  </svg>\n",
              "    </button>\n",
              "\n",
              "  <style>\n",
              "    .colab-df-container {\n",
              "      display:flex;\n",
              "      gap: 12px;\n",
              "    }\n",
              "\n",
              "    .colab-df-convert {\n",
              "      background-color: #E8F0FE;\n",
              "      border: none;\n",
              "      border-radius: 50%;\n",
              "      cursor: pointer;\n",
              "      display: none;\n",
              "      fill: #1967D2;\n",
              "      height: 32px;\n",
              "      padding: 0 0 0 0;\n",
              "      width: 32px;\n",
              "    }\n",
              "\n",
              "    .colab-df-convert:hover {\n",
              "      background-color: #E2EBFA;\n",
              "      box-shadow: 0px 1px 2px rgba(60, 64, 67, 0.3), 0px 1px 3px 1px rgba(60, 64, 67, 0.15);\n",
              "      fill: #174EA6;\n",
              "    }\n",
              "\n",
              "    .colab-df-buttons div {\n",
              "      margin-bottom: 4px;\n",
              "    }\n",
              "\n",
              "    [theme=dark] .colab-df-convert {\n",
              "      background-color: #3B4455;\n",
              "      fill: #D2E3FC;\n",
              "    }\n",
              "\n",
              "    [theme=dark] .colab-df-convert:hover {\n",
              "      background-color: #434B5C;\n",
              "      box-shadow: 0px 1px 3px 1px rgba(0, 0, 0, 0.15);\n",
              "      filter: drop-shadow(0px 1px 2px rgba(0, 0, 0, 0.3));\n",
              "      fill: #FFFFFF;\n",
              "    }\n",
              "  </style>\n",
              "\n",
              "    <script>\n",
              "      const buttonEl =\n",
              "        document.querySelector('#df-a3979412-75e5-4f87-b54e-2fabe899e14e button.colab-df-convert');\n",
              "      buttonEl.style.display =\n",
              "        google.colab.kernel.accessAllowed ? 'block' : 'none';\n",
              "\n",
              "      async function convertToInteractive(key) {\n",
              "        const element = document.querySelector('#df-a3979412-75e5-4f87-b54e-2fabe899e14e');\n",
              "        const dataTable =\n",
              "          await google.colab.kernel.invokeFunction('convertToInteractive',\n",
              "                                                    [key], {});\n",
              "        if (!dataTable) return;\n",
              "\n",
              "        const docLinkHtml = 'Like what you see? Visit the ' +\n",
              "          '<a target=\"_blank\" href=https://colab.research.google.com/notebooks/data_table.ipynb>data table notebook</a>'\n",
              "          + ' to learn more about interactive tables.';\n",
              "        element.innerHTML = '';\n",
              "        dataTable['output_type'] = 'display_data';\n",
              "        await google.colab.output.renderOutput(dataTable, element);\n",
              "        const docLink = document.createElement('div');\n",
              "        docLink.innerHTML = docLinkHtml;\n",
              "        element.appendChild(docLink);\n",
              "      }\n",
              "    </script>\n",
              "  </div>\n",
              "\n",
              "\n",
              "<div id=\"df-174ddf7e-cfb3-440c-a755-aebcc0afb895\">\n",
              "  <button class=\"colab-df-quickchart\" onclick=\"quickchart('df-174ddf7e-cfb3-440c-a755-aebcc0afb895')\"\n",
              "            title=\"Suggest charts\"\n",
              "            style=\"display:none;\">\n",
              "\n",
              "<svg xmlns=\"http://www.w3.org/2000/svg\" height=\"24px\"viewBox=\"0 0 24 24\"\n",
              "     width=\"24px\">\n",
              "    <g>\n",
              "        <path d=\"M19 3H5c-1.1 0-2 .9-2 2v14c0 1.1.9 2 2 2h14c1.1 0 2-.9 2-2V5c0-1.1-.9-2-2-2zM9 17H7v-7h2v7zm4 0h-2V7h2v10zm4 0h-2v-4h2v4z\"/>\n",
              "    </g>\n",
              "</svg>\n",
              "  </button>\n",
              "\n",
              "<style>\n",
              "  .colab-df-quickchart {\n",
              "      --bg-color: #E8F0FE;\n",
              "      --fill-color: #1967D2;\n",
              "      --hover-bg-color: #E2EBFA;\n",
              "      --hover-fill-color: #174EA6;\n",
              "      --disabled-fill-color: #AAA;\n",
              "      --disabled-bg-color: #DDD;\n",
              "  }\n",
              "\n",
              "  [theme=dark] .colab-df-quickchart {\n",
              "      --bg-color: #3B4455;\n",
              "      --fill-color: #D2E3FC;\n",
              "      --hover-bg-color: #434B5C;\n",
              "      --hover-fill-color: #FFFFFF;\n",
              "      --disabled-bg-color: #3B4455;\n",
              "      --disabled-fill-color: #666;\n",
              "  }\n",
              "\n",
              "  .colab-df-quickchart {\n",
              "    background-color: var(--bg-color);\n",
              "    border: none;\n",
              "    border-radius: 50%;\n",
              "    cursor: pointer;\n",
              "    display: none;\n",
              "    fill: var(--fill-color);\n",
              "    height: 32px;\n",
              "    padding: 0;\n",
              "    width: 32px;\n",
              "  }\n",
              "\n",
              "  .colab-df-quickchart:hover {\n",
              "    background-color: var(--hover-bg-color);\n",
              "    box-shadow: 0 1px 2px rgba(60, 64, 67, 0.3), 0 1px 3px 1px rgba(60, 64, 67, 0.15);\n",
              "    fill: var(--button-hover-fill-color);\n",
              "  }\n",
              "\n",
              "  .colab-df-quickchart-complete:disabled,\n",
              "  .colab-df-quickchart-complete:disabled:hover {\n",
              "    background-color: var(--disabled-bg-color);\n",
              "    fill: var(--disabled-fill-color);\n",
              "    box-shadow: none;\n",
              "  }\n",
              "\n",
              "  .colab-df-spinner {\n",
              "    border: 2px solid var(--fill-color);\n",
              "    border-color: transparent;\n",
              "    border-bottom-color: var(--fill-color);\n",
              "    animation:\n",
              "      spin 1s steps(1) infinite;\n",
              "  }\n",
              "\n",
              "  @keyframes spin {\n",
              "    0% {\n",
              "      border-color: transparent;\n",
              "      border-bottom-color: var(--fill-color);\n",
              "      border-left-color: var(--fill-color);\n",
              "    }\n",
              "    20% {\n",
              "      border-color: transparent;\n",
              "      border-left-color: var(--fill-color);\n",
              "      border-top-color: var(--fill-color);\n",
              "    }\n",
              "    30% {\n",
              "      border-color: transparent;\n",
              "      border-left-color: var(--fill-color);\n",
              "      border-top-color: var(--fill-color);\n",
              "      border-right-color: var(--fill-color);\n",
              "    }\n",
              "    40% {\n",
              "      border-color: transparent;\n",
              "      border-right-color: var(--fill-color);\n",
              "      border-top-color: var(--fill-color);\n",
              "    }\n",
              "    60% {\n",
              "      border-color: transparent;\n",
              "      border-right-color: var(--fill-color);\n",
              "    }\n",
              "    80% {\n",
              "      border-color: transparent;\n",
              "      border-right-color: var(--fill-color);\n",
              "      border-bottom-color: var(--fill-color);\n",
              "    }\n",
              "    90% {\n",
              "      border-color: transparent;\n",
              "      border-bottom-color: var(--fill-color);\n",
              "    }\n",
              "  }\n",
              "</style>\n",
              "\n",
              "  <script>\n",
              "    async function quickchart(key) {\n",
              "      const quickchartButtonEl =\n",
              "        document.querySelector('#' + key + ' button');\n",
              "      quickchartButtonEl.disabled = true;  // To prevent multiple clicks.\n",
              "      quickchartButtonEl.classList.add('colab-df-spinner');\n",
              "      try {\n",
              "        const charts = await google.colab.kernel.invokeFunction(\n",
              "            'suggestCharts', [key], {});\n",
              "      } catch (error) {\n",
              "        console.error('Error during call to suggestCharts:', error);\n",
              "      }\n",
              "      quickchartButtonEl.classList.remove('colab-df-spinner');\n",
              "      quickchartButtonEl.classList.add('colab-df-quickchart-complete');\n",
              "    }\n",
              "    (() => {\n",
              "      let quickchartButtonEl =\n",
              "        document.querySelector('#df-174ddf7e-cfb3-440c-a755-aebcc0afb895 button');\n",
              "      quickchartButtonEl.style.display =\n",
              "        google.colab.kernel.accessAllowed ? 'block' : 'none';\n",
              "    })();\n",
              "  </script>\n",
              "</div>\n",
              "\n",
              "  <div id=\"id_c9200e21-c211-49b5-b838-df360b83058a\">\n",
              "    <style>\n",
              "      .colab-df-generate {\n",
              "        background-color: #E8F0FE;\n",
              "        border: none;\n",
              "        border-radius: 50%;\n",
              "        cursor: pointer;\n",
              "        display: none;\n",
              "        fill: #1967D2;\n",
              "        height: 32px;\n",
              "        padding: 0 0 0 0;\n",
              "        width: 32px;\n",
              "      }\n",
              "\n",
              "      .colab-df-generate:hover {\n",
              "        background-color: #E2EBFA;\n",
              "        box-shadow: 0px 1px 2px rgba(60, 64, 67, 0.3), 0px 1px 3px 1px rgba(60, 64, 67, 0.15);\n",
              "        fill: #174EA6;\n",
              "      }\n",
              "\n",
              "      [theme=dark] .colab-df-generate {\n",
              "        background-color: #3B4455;\n",
              "        fill: #D2E3FC;\n",
              "      }\n",
              "\n",
              "      [theme=dark] .colab-df-generate:hover {\n",
              "        background-color: #434B5C;\n",
              "        box-shadow: 0px 1px 3px 1px rgba(0, 0, 0, 0.15);\n",
              "        filter: drop-shadow(0px 1px 2px rgba(0, 0, 0, 0.3));\n",
              "        fill: #FFFFFF;\n",
              "      }\n",
              "    </style>\n",
              "    <button class=\"colab-df-generate\" onclick=\"generateWithVariable('df')\"\n",
              "            title=\"Generate code using this dataframe.\"\n",
              "            style=\"display:none;\">\n",
              "\n",
              "  <svg xmlns=\"http://www.w3.org/2000/svg\" height=\"24px\"viewBox=\"0 0 24 24\"\n",
              "       width=\"24px\">\n",
              "    <path d=\"M7,19H8.4L18.45,9,17,7.55,7,17.6ZM5,21V16.75L18.45,3.32a2,2,0,0,1,2.83,0l1.4,1.43a1.91,1.91,0,0,1,.58,1.4,1.91,1.91,0,0,1-.58,1.4L9.25,21ZM18.45,9,17,7.55Zm-12,3A5.31,5.31,0,0,0,4.9,8.1,5.31,5.31,0,0,0,1,6.5,5.31,5.31,0,0,0,4.9,4.9,5.31,5.31,0,0,0,6.5,1,5.31,5.31,0,0,0,8.1,4.9,5.31,5.31,0,0,0,12,6.5,5.46,5.46,0,0,0,6.5,12Z\"/>\n",
              "  </svg>\n",
              "    </button>\n",
              "    <script>\n",
              "      (() => {\n",
              "      const buttonEl =\n",
              "        document.querySelector('#id_c9200e21-c211-49b5-b838-df360b83058a button.colab-df-generate');\n",
              "      buttonEl.style.display =\n",
              "        google.colab.kernel.accessAllowed ? 'block' : 'none';\n",
              "\n",
              "      buttonEl.onclick = () => {\n",
              "        google.colab.notebook.generateWithVariable('df');\n",
              "      }\n",
              "      })();\n",
              "    </script>\n",
              "  </div>\n",
              "\n",
              "    </div>\n",
              "  </div>\n"
            ],
            "application/vnd.google.colaboratory.intrinsic+json": {
              "type": "dataframe",
              "variable_name": "df",
              "summary": "{\n  \"name\": \"df\",\n  \"rows\": 3,\n  \"fields\": [\n    {\n      \"column\": \"Initial\",\n      \"properties\": {\n        \"dtype\": \"number\",\n        \"std\": 93.21313897026612,\n        \"min\": 0.0,\n        \"max\": 161.44989262947942,\n        \"num_unique_values\": 2,\n        \"samples\": [\n          161.44989262947942,\n          0.0\n        ],\n        \"semantic_type\": \"\",\n        \"description\": \"\"\n      }\n    },\n    {\n      \"column\": \"Final\",\n      \"properties\": {\n        \"dtype\": \"number\",\n        \"std\": 4.980123761301896,\n        \"min\": 0.08341266414763072,\n        \"max\": 9.500380403136907,\n        \"num_unique_values\": 3,\n        \"samples\": [\n          1.982014510179785,\n          9.500380403136907\n        ],\n        \"semantic_type\": \"\",\n        \"description\": \"\"\n      }\n    }\n  ]\n}"
            }
          },
          "metadata": {},
          "execution_count": 34
        }
      ],
      "id": "d59d388b"
    },
    {
      "cell_type": "code",
      "source": [
        "# Visualising the cost wrt epochs\n",
        "plt.figure(figsize=(10, 4))\n",
        "plt.plot(costs, color='m')\n",
        "plt.xlabel('Epochs', color='blue')\n",
        "plt.ylabel('Costs', color='blue')\n",
        "plt.title('Costs vs Epochs', weight='bold', color='maroon')\n",
        "plt.show()"
      ],
      "metadata": {
        "id": "7384e581",
        "execution": {
          "iopub.status.busy": "2022-12-14T11:21:08.415184Z",
          "iopub.execute_input": "2022-12-14T11:21:08.415673Z",
          "iopub.status.idle": "2022-12-14T11:21:08.591299Z",
          "shell.execute_reply.started": "2022-12-14T11:21:08.415627Z",
          "shell.execute_reply": "2022-12-14T11:21:08.590040Z"
        },
        "trusted": true,
        "colab": {
          "base_uri": "https://localhost:8080/",
          "height": 410
        },
        "outputId": "43d8ff4b-4c7f-4afb-cb78-20dbe8e0e835"
      },
      "execution_count": null,
      "outputs": [
        {
          "output_type": "display_data",
          "data": {
            "text/plain": [
              "<Figure size 1000x400 with 1 Axes>"
            ],
            "image/png": "[encoded data removed]"
          },
          "metadata": {}
        }
      ],
      "id": "7384e581"
    },
    {
      "cell_type": "code",
      "source": [
        "# Define a seed value (using different seed value compared to trianing set to avoid data leakage!) --> 5007\n",
        "np.random.seed(5007)  # This number was choose to get the optimal results with random values\n",
        "\n",
        "# Test data\n",
        "X_test = 3*np.random.rand(10,1)\n",
        "y_test = 9 + 2*X_test + np.random.rand(10,1)\n",
        "\n",
        "prediction = predict(X_test, weights[-1], biases[-1])\n",
        "\n",
        "# DataFrame to compare true and predicted outputs on test inputs\n",
        "df1 = pd.DataFrame(list(zip(X_test.reshape(10,), y_test.reshape(10,), prediction.reshape(10,))),\n",
        "                  columns = ['Test Input', 'True Output', 'Predicted Output'])\n",
        "df1"
      ],
      "metadata": {
        "id": "1d03bc56",
        "execution": {
          "iopub.status.busy": "2022-12-14T11:21:08.592750Z",
          "iopub.execute_input": "2022-12-14T11:21:08.593130Z",
          "iopub.status.idle": "2022-12-14T11:21:08.601268Z",
          "shell.execute_reply.started": "2022-12-14T11:21:08.593099Z",
          "shell.execute_reply": "2022-12-14T11:21:08.599852Z"
        },
        "trusted": true,
        "colab": {
          "base_uri": "https://localhost:8080/",
          "height": 362
        },
        "outputId": "ccee5054-1d1e-47c9-b5c3-24e683349204"
      },
      "execution_count": null,
      "outputs": [
        {
          "output_type": "execute_result",
          "data": {
            "text/plain": [
              "   Test Input  True Output  Predicted Output\n",
              "0    0.723836    10.889388         10.935035\n",
              "1    1.900129    13.358554         13.266463\n",
              "2    0.126943     9.974414          9.751983\n",
              "3    2.026471    13.566160         13.516875\n",
              "4    2.647429    14.842352         14.747624\n",
              "5    1.238825    12.071978         11.955750\n",
              "6    1.561243    12.881255         12.594786\n",
              "7    2.042729    13.622504         13.549100\n",
              "8    1.230220    12.098017         11.938694\n",
              "9    0.382516    10.325675         10.258534"
            ],
            "text/html": [
              "\n",
              "  <div id=\"df-9332d604-5c0c-4aa2-88e8-ff5d2d10ae11\" class=\"colab-df-container\">\n",
              "    <div>\n",
              "<style scoped>\n",
              "    .dataframe tbody tr th:only-of-type {\n",
              "        vertical-align: middle;\n",
              "    }\n",
              "\n",
              "    .dataframe tbody tr th {\n",
              "        vertical-align: top;\n",
              "    }\n",
              "\n",
              "    .dataframe thead th {\n",
              "        text-align: right;\n",
              "    }\n",
              "</style>\n",
              "<table border=\"1\" class=\"dataframe\">\n",
              "  <thead>\n",
              "    <tr style=\"text-align: right;\">\n",
              "      <th></th>\n",
              "      <th>Test Input</th>\n",
              "      <th>True Output</th>\n",
              "      <th>Predicted Output</th>\n",
              "    </tr>\n",
              "  </thead>\n",
              "  <tbody>\n",
              "    <tr>\n",
              "      <th>0</th>\n",
              "      <td>0.723836</td>\n",
              "      <td>10.889388</td>\n",
              "      <td>10.935035</td>\n",
              "    </tr>\n",
              "    <tr>\n",
              "      <th>1</th>\n",
              "      <td>1.900129</td>\n",
              "      <td>13.358554</td>\n",
              "      <td>13.266463</td>\n",
              "    </tr>\n",
              "    <tr>\n",
              "      <th>2</th>\n",
              "      <td>0.126943</td>\n",
              "      <td>9.974414</td>\n",
              "      <td>9.751983</td>\n",
              "    </tr>\n",
              "    <tr>\n",
              "      <th>3</th>\n",
              "      <td>2.026471</td>\n",
              "      <td>13.566160</td>\n",
              "      <td>13.516875</td>\n",
              "    </tr>\n",
              "    <tr>\n",
              "      <th>4</th>\n",
              "      <td>2.647429</td>\n",
              "      <td>14.842352</td>\n",
              "      <td>14.747624</td>\n",
              "    </tr>\n",
              "    <tr>\n",
              "      <th>5</th>\n",
              "      <td>1.238825</td>\n",
              "      <td>12.071978</td>\n",
              "      <td>11.955750</td>\n",
              "    </tr>\n",
              "    <tr>\n",
              "      <th>6</th>\n",
              "      <td>1.561243</td>\n",
              "      <td>12.881255</td>\n",
              "      <td>12.594786</td>\n",
              "    </tr>\n",
              "    <tr>\n",
              "      <th>7</th>\n",
              "      <td>2.042729</td>\n",
              "      <td>13.622504</td>\n",
              "      <td>13.549100</td>\n",
              "    </tr>\n",
              "    <tr>\n",
              "      <th>8</th>\n",
              "      <td>1.230220</td>\n",
              "      <td>12.098017</td>\n",
              "      <td>11.938694</td>\n",
              "    </tr>\n",
              "    <tr>\n",
              "      <th>9</th>\n",
              "      <td>0.382516</td>\n",
              "      <td>10.325675</td>\n",
              "      <td>10.258534</td>\n",
              "    </tr>\n",
              "  </tbody>\n",
              "</table>\n",
              "</div>\n",
              "    <div class=\"colab-df-buttons\">\n",
              "\n",
              "  <div class=\"colab-df-container\">\n",
              "    <button class=\"colab-df-convert\" onclick=\"convertToInteractive('df-9332d604-5c0c-4aa2-88e8-ff5d2d10ae11')\"\n",
              "            title=\"Convert this dataframe to an interactive table.\"\n",
              "            style=\"display:none;\">\n",
              "\n",
              "  <svg xmlns=\"http://www.w3.org/2000/svg\" height=\"24px\" viewBox=\"0 -960 960 960\">\n",
              "    <path d=\"M120-120v-720h720v720H120Zm60-500h600v-160H180v160Zm220 220h160v-160H400v160Zm0 220h160v-160H400v160ZM180-400h160v-160H180v160Zm440 0h160v-160H620v160ZM180-180h160v-160H180v160Zm440 0h160v-160H620v160Z\"/>\n",
              "  </svg>\n",
              "    </button>\n",
              "\n",
              "  <style>\n",
              "    .colab-df-container {\n",
              "      display:flex;\n",
              "      gap: 12px;\n",
              "    }\n",
              "\n",
              "    .colab-df-convert {\n",
              "      background-color: #E8F0FE;\n",
              "      border: none;\n",
              "      border-radius: 50%;\n",
              "      cursor: pointer;\n",
              "      display: none;\n",
              "      fill: #1967D2;\n",
              "      height: 32px;\n",
              "      padding: 0 0 0 0;\n",
              "      width: 32px;\n",
              "    }\n",
              "\n",
              "    .colab-df-convert:hover {\n",
              "      background-color: #E2EBFA;\n",
              "      box-shadow: 0px 1px 2px rgba(60, 64, 67, 0.3), 0px 1px 3px 1px rgba(60, 64, 67, 0.15);\n",
              "      fill: #174EA6;\n",
              "    }\n",
              "\n",
              "    .colab-df-buttons div {\n",
              "      margin-bottom: 4px;\n",
              "    }\n",
              "\n",
              "    [theme=dark] .colab-df-convert {\n",
              "      background-color: #3B4455;\n",
              "      fill: #D2E3FC;\n",
              "    }\n",
              "\n",
              "    [theme=dark] .colab-df-convert:hover {\n",
              "      background-color: #434B5C;\n",
              "      box-shadow: 0px 1px 3px 1px rgba(0, 0, 0, 0.15);\n",
              "      filter: drop-shadow(0px 1px 2px rgba(0, 0, 0, 0.3));\n",
              "      fill: #FFFFFF;\n",
              "    }\n",
              "  </style>\n",
              "\n",
              "    <script>\n",
              "      const buttonEl =\n",
              "        document.querySelector('#df-9332d604-5c0c-4aa2-88e8-ff5d2d10ae11 button.colab-df-convert');\n",
              "      buttonEl.style.display =\n",
              "        google.colab.kernel.accessAllowed ? 'block' : 'none';\n",
              "\n",
              "      async function convertToInteractive(key) {\n",
              "        const element = document.querySelector('#df-9332d604-5c0c-4aa2-88e8-ff5d2d10ae11');\n",
              "        const dataTable =\n",
              "          await google.colab.kernel.invokeFunction('convertToInteractive',\n",
              "                                                    [key], {});\n",
              "        if (!dataTable) return;\n",
              "\n",
              "        const docLinkHtml = 'Like what you see? Visit the ' +\n",
              "          '<a target=\"_blank\" href=https://colab.research.google.com/notebooks/data_table.ipynb>data table notebook</a>'\n",
              "          + ' to learn more about interactive tables.';\n",
              "        element.innerHTML = '';\n",
              "        dataTable['output_type'] = 'display_data';\n",
              "        await google.colab.output.renderOutput(dataTable, element);\n",
              "        const docLink = document.createElement('div');\n",
              "        docLink.innerHTML = docLinkHtml;\n",
              "        element.appendChild(docLink);\n",
              "      }\n",
              "    </script>\n",
              "  </div>\n",
              "\n",
              "\n",
              "<div id=\"df-c1516ac6-d915-4c4c-9424-f81d15fc3709\">\n",
              "  <button class=\"colab-df-quickchart\" onclick=\"quickchart('df-c1516ac6-d915-4c4c-9424-f81d15fc3709')\"\n",
              "            title=\"Suggest charts\"\n",
              "            style=\"display:none;\">\n",
              "\n",
              "<svg xmlns=\"http://www.w3.org/2000/svg\" height=\"24px\"viewBox=\"0 0 24 24\"\n",
              "     width=\"24px\">\n",
              "    <g>\n",
              "        <path d=\"M19 3H5c-1.1 0-2 .9-2 2v14c0 1.1.9 2 2 2h14c1.1 0 2-.9 2-2V5c0-1.1-.9-2-2-2zM9 17H7v-7h2v7zm4 0h-2V7h2v10zm4 0h-2v-4h2v4z\"/>\n",
              "    </g>\n",
              "</svg>\n",
              "  </button>\n",
              "\n",
              "<style>\n",
              "  .colab-df-quickchart {\n",
              "      --bg-color: #E8F0FE;\n",
              "      --fill-color: #1967D2;\n",
              "      --hover-bg-color: #E2EBFA;\n",
              "      --hover-fill-color: #174EA6;\n",
              "      --disabled-fill-color: #AAA;\n",
              "      --disabled-bg-color: #DDD;\n",
              "  }\n",
              "\n",
              "  [theme=dark] .colab-df-quickchart {\n",
              "      --bg-color: #3B4455;\n",
              "      --fill-color: #D2E3FC;\n",
              "      --hover-bg-color: #434B5C;\n",
              "      --hover-fill-color: #FFFFFF;\n",
              "      --disabled-bg-color: #3B4455;\n",
              "      --disabled-fill-color: #666;\n",
              "  }\n",
              "\n",
              "  .colab-df-quickchart {\n",
              "    background-color: var(--bg-color);\n",
              "    border: none;\n",
              "    border-radius: 50%;\n",
              "    cursor: pointer;\n",
              "    display: none;\n",
              "    fill: var(--fill-color);\n",
              "    height: 32px;\n",
              "    padding: 0;\n",
              "    width: 32px;\n",
              "  }\n",
              "\n",
              "  .colab-df-quickchart:hover {\n",
              "    background-color: var(--hover-bg-color);\n",
              "    box-shadow: 0 1px 2px rgba(60, 64, 67, 0.3), 0 1px 3px 1px rgba(60, 64, 67, 0.15);\n",
              "    fill: var(--button-hover-fill-color);\n",
              "  }\n",
              "\n",
              "  .colab-df-quickchart-complete:disabled,\n",
              "  .colab-df-quickchart-complete:disabled:hover {\n",
              "    background-color: var(--disabled-bg-color);\n",
              "    fill: var(--disabled-fill-color);\n",
              "    box-shadow: none;\n",
              "  }\n",
              "\n",
              "  .colab-df-spinner {\n",
              "    border: 2px solid var(--fill-color);\n",
              "    border-color: transparent;\n",
              "    border-bottom-color: var(--fill-color);\n",
              "    animation:\n",
              "      spin 1s steps(1) infinite;\n",
              "  }\n",
              "\n",
              "  @keyframes spin {\n",
              "    0% {\n",
              "      border-color: transparent;\n",
              "      border-bottom-color: var(--fill-color);\n",
              "      border-left-color: var(--fill-color);\n",
              "    }\n",
              "    20% {\n",
              "      border-color: transparent;\n",
              "      border-left-color: var(--fill-color);\n",
              "      border-top-color: var(--fill-color);\n",
              "    }\n",
              "    30% {\n",
              "      border-color: transparent;\n",
              "      border-left-color: var(--fill-color);\n",
              "      border-top-color: var(--fill-color);\n",
              "      border-right-color: var(--fill-color);\n",
              "    }\n",
              "    40% {\n",
              "      border-color: transparent;\n",
              "      border-right-color: var(--fill-color);\n",
              "      border-top-color: var(--fill-color);\n",
              "    }\n",
              "    60% {\n",
              "      border-color: transparent;\n",
              "      border-right-color: var(--fill-color);\n",
              "    }\n",
              "    80% {\n",
              "      border-color: transparent;\n",
              "      border-right-color: var(--fill-color);\n",
              "      border-bottom-color: var(--fill-color);\n",
              "    }\n",
              "    90% {\n",
              "      border-color: transparent;\n",
              "      border-bottom-color: var(--fill-color);\n",
              "    }\n",
              "  }\n",
              "</style>\n",
              "\n",
              "  <script>\n",
              "    async function quickchart(key) {\n",
              "      const quickchartButtonEl =\n",
              "        document.querySelector('#' + key + ' button');\n",
              "      quickchartButtonEl.disabled = true;  // To prevent multiple clicks.\n",
              "      quickchartButtonEl.classList.add('colab-df-spinner');\n",
              "      try {\n",
              "        const charts = await google.colab.kernel.invokeFunction(\n",
              "            'suggestCharts', [key], {});\n",
              "      } catch (error) {\n",
              "        console.error('Error during call to suggestCharts:', error);\n",
              "      }\n",
              "      quickchartButtonEl.classList.remove('colab-df-spinner');\n",
              "      quickchartButtonEl.classList.add('colab-df-quickchart-complete');\n",
              "    }\n",
              "    (() => {\n",
              "      let quickchartButtonEl =\n",
              "        document.querySelector('#df-c1516ac6-d915-4c4c-9424-f81d15fc3709 button');\n",
              "      quickchartButtonEl.style.display =\n",
              "        google.colab.kernel.accessAllowed ? 'block' : 'none';\n",
              "    })();\n",
              "  </script>\n",
              "</div>\n",
              "\n",
              "  <div id=\"id_41b727a6-9559-4ad1-b69f-a2bf3dbfad18\">\n",
              "    <style>\n",
              "      .colab-df-generate {\n",
              "        background-color: #E8F0FE;\n",
              "        border: none;\n",
              "        border-radius: 50%;\n",
              "        cursor: pointer;\n",
              "        display: none;\n",
              "        fill: #1967D2;\n",
              "        height: 32px;\n",
              "        padding: 0 0 0 0;\n",
              "        width: 32px;\n",
              "      }\n",
              "\n",
              "      .colab-df-generate:hover {\n",
              "        background-color: #E2EBFA;\n",
              "        box-shadow: 0px 1px 2px rgba(60, 64, 67, 0.3), 0px 1px 3px 1px rgba(60, 64, 67, 0.15);\n",
              "        fill: #174EA6;\n",
              "      }\n",
              "\n",
              "      [theme=dark] .colab-df-generate {\n",
              "        background-color: #3B4455;\n",
              "        fill: #D2E3FC;\n",
              "      }\n",
              "\n",
              "      [theme=dark] .colab-df-generate:hover {\n",
              "        background-color: #434B5C;\n",
              "        box-shadow: 0px 1px 3px 1px rgba(0, 0, 0, 0.15);\n",
              "        filter: drop-shadow(0px 1px 2px rgba(0, 0, 0, 0.3));\n",
              "        fill: #FFFFFF;\n",
              "      }\n",
              "    </style>\n",
              "    <button class=\"colab-df-generate\" onclick=\"generateWithVariable('df1')\"\n",
              "            title=\"Generate code using this dataframe.\"\n",
              "            style=\"display:none;\">\n",
              "\n",
              "  <svg xmlns=\"http://www.w3.org/2000/svg\" height=\"24px\"viewBox=\"0 0 24 24\"\n",
              "       width=\"24px\">\n",
              "    <path d=\"M7,19H8.4L18.45,9,17,7.55,7,17.6ZM5,21V16.75L18.45,3.32a2,2,0,0,1,2.83,0l1.4,1.43a1.91,1.91,0,0,1,.58,1.4,1.91,1.91,0,0,1-.58,1.4L9.25,21ZM18.45,9,17,7.55Zm-12,3A5.31,5.31,0,0,0,4.9,8.1,5.31,5.31,0,0,0,1,6.5,5.31,5.31,0,0,0,4.9,4.9,5.31,5.31,0,0,0,6.5,1,5.31,5.31,0,0,0,8.1,4.9,5.31,5.31,0,0,0,12,6.5,5.46,5.46,0,0,0,6.5,12Z\"/>\n",
              "  </svg>\n",
              "    </button>\n",
              "    <script>\n",
              "      (() => {\n",
              "      const buttonEl =\n",
              "        document.querySelector('#id_41b727a6-9559-4ad1-b69f-a2bf3dbfad18 button.colab-df-generate');\n",
              "      buttonEl.style.display =\n",
              "        google.colab.kernel.accessAllowed ? 'block' : 'none';\n",
              "\n",
              "      buttonEl.onclick = () => {\n",
              "        google.colab.notebook.generateWithVariable('df1');\n",
              "      }\n",
              "      })();\n",
              "    </script>\n",
              "  </div>\n",
              "\n",
              "    </div>\n",
              "  </div>\n"
            ],
            "application/vnd.google.colaboratory.intrinsic+json": {
              "type": "dataframe",
              "variable_name": "df1",
              "summary": "{\n  \"name\": \"df1\",\n  \"rows\": 10,\n  \"fields\": [\n    {\n      \"column\": \"Test Input\",\n      \"properties\": {\n        \"dtype\": \"number\",\n        \"std\": 0.8030697840304065,\n        \"min\": 0.12694282086146402,\n        \"max\": 2.647429217504328,\n        \"num_unique_values\": 10,\n        \"samples\": [\n          1.2302200588085852,\n          1.9001287656565244,\n          1.2388254697490027\n        ],\n        \"semantic_type\": \"\",\n        \"description\": \"\"\n      }\n    },\n    {\n      \"column\": \"True Output\",\n      \"properties\": {\n        \"dtype\": \"number\",\n        \"std\": 1.5854662750571318,\n        \"min\": 9.974413671191092,\n        \"max\": 14.842352456486326,\n        \"num_unique_values\": 10,\n        \"samples\": [\n          12.098017068777105,\n          13.358554192434289,\n          12.071977656552585\n        ],\n        \"semantic_type\": \"\",\n        \"description\": \"\"\n      }\n    },\n    {\n      \"column\": \"Predicted Output\",\n      \"properties\": {\n        \"dtype\": \"number\",\n        \"std\": 1.5916959646352116,\n        \"min\": 9.751982916047481,\n        \"max\": 14.747623526904398,\n        \"num_unique_values\": 10,\n        \"samples\": [\n          11.93869441040975,\n          13.266463187878143,\n          11.955750459759718\n        ],\n        \"semantic_type\": \"\",\n        \"description\": \"\"\n      }\n    }\n  ]\n}"
            }
          },
          "metadata": {},
          "execution_count": 35
        }
      ],
      "id": "1d03bc56"
    },
    {
      "cell_type": "code",
      "source": [
        "# Calculate the mean sqaured error to evaluate the performance\n",
        "mse = np.mean((y_test - prediction)**2)\n",
        "print(f'The Means Squared Error:- {round(mse, 3)} (3dp).')"
      ],
      "metadata": {
        "id": "b1631e94",
        "execution": {
          "iopub.status.busy": "2022-12-14T11:21:08.614239Z",
          "iopub.execute_input": "2022-12-14T11:21:08.614763Z",
          "iopub.status.idle": "2022-12-14T11:21:08.623697Z",
          "shell.execute_reply.started": "2022-12-14T11:21:08.614730Z",
          "shell.execute_reply": "2022-12-14T11:21:08.622599Z"
        },
        "trusted": true,
        "colab": {
          "base_uri": "https://localhost:8080/"
        },
        "outputId": "82c3ab02-e267-4fc5-82d5-772c494ab2b7"
      },
      "execution_count": null,
      "outputs": [
        {
          "output_type": "stream",
          "name": "stdout",
          "text": [
            "The Means Squared Error:- 0.02 (3dp).\n"
          ]
        }
      ],
      "id": "b1631e94"
    },
    {
      "cell_type": "code",
      "source": [
        "# Visualise the performance of the test data\n",
        "plt.figure(figsize = (10,4))\n",
        "plt.plot(X_test, prediction, color=\"k\", linewidth = 0.7)\n",
        "plt.scatter(X_test, y_test, color=\"c\", marker = '*', s = 20, zorder = 2)\n",
        "plt.title(\"Visualisig the performance of the test data\", color = 'red', weight = 'bold')\n",
        "plt.xlabel(\"Test Inputs\", color = 'm', fontsize = 13)\n",
        "plt.ylabel(\"Star Property\", color = 'm', fontsize = 13)\n",
        "plt.legend(['Predicted Linear Regression', 'True Values'], loc='lower right')\n",
        "plt.show()"
      ],
      "metadata": {
        "id": "79de7593",
        "execution": {
          "iopub.status.busy": "2022-12-14T11:21:08.625524Z",
          "iopub.execute_input": "2022-12-14T11:21:08.626114Z",
          "iopub.status.idle": "2022-12-14T11:21:08.818419Z",
          "shell.execute_reply.started": "2022-12-14T11:21:08.626068Z",
          "shell.execute_reply": "2022-12-14T11:21:08.817214Z"
        },
        "trusted": true,
        "colab": {
          "base_uri": "https://localhost:8080/",
          "height": 414
        },
        "outputId": "4c3040d9-725f-450d-f335-c3e815dea1d8"
      },
      "execution_count": null,
      "outputs": [
        {
          "output_type": "display_data",
          "data": {
            "text/plain": [
              "<Figure size 1000x400 with 1 Axes>"
            ],
            "image/png": "[encoded data removed]"
          },
          "metadata": {}
        }
      ],
      "id": "79de7593"
    },
    {
      "cell_type": "markdown",
      "source": [
        "---\n",
        "\n",
        "## <center> Linear Regression using Scikit-Learn library\n",
        "\n",
        "---"
      ],
      "metadata": {
        "id": "wc3pPuthdN3F"
      },
      "id": "wc3pPuthdN3F"
    },
    {
      "cell_type": "markdown",
      "source": [
        "- Linear regression is a foundational algorithm in machine learning.\n",
        "- It is used for predicting a continuous target variable based on one or more input features.\n",
        "- Scikit-learn's `LinearRegression` module provides a straightforward way to implement this technique.\n",
        "- However, it uses Ordinary Least Square Regression to get the line of best fit.\n",
        "\n",
        "Let us compare our Gradient Descent method with sklearn's Ordinary Least Square Regression method...\n"
      ],
      "metadata": {
        "id": "QC-1e2a-xebA"
      },
      "id": "QC-1e2a-xebA"
    },
    {
      "cell_type": "markdown",
      "source": [
        "#### Step 1: Input Data\n",
        "\n",
        "**Gather your data:-**\n",
        "- You need a dataset with input features (independent variables) and corresponding target values (dependent variable).\n",
        "- Both of this data already defined for our usecase."
      ],
      "metadata": {
        "id": "d3eJX_sexwtC"
      },
      "id": "d3eJX_sexwtC"
    },
    {
      "cell_type": "code",
      "source": [
        "# Training data - first 5 sample\n",
        "print('First 5 Independent Feature:-\\n', X_train[:5])\n",
        "print()\n",
        "print('Rescpective Dependent Feature:-\\n', y_train[:5])"
      ],
      "metadata": {
        "id": "fUqWPxk-2CHv",
        "colab": {
          "base_uri": "https://localhost:8080/"
        },
        "outputId": "4b3e52a3-09a3-4d40-b55b-b01c385f073c"
      },
      "id": "fUqWPxk-2CHv",
      "execution_count": null,
      "outputs": [
        {
          "output_type": "stream",
          "name": "stdout",
          "text": [
            "First 5 Independent Feature:-\n",
            " [[2.33486765]\n",
            " [2.3387952 ]\n",
            " [1.83098446]\n",
            " [0.92700105]\n",
            " [2.09320472]]\n",
            "\n",
            "Rescpective Dependent Feature:-\n",
            " [[14.21314023]\n",
            " [13.95595978]\n",
            " [13.08648651]\n",
            " [11.69877822]\n",
            " [13.1911283 ]]\n"
          ]
        }
      ]
    },
    {
      "cell_type": "code",
      "source": [
        "# Testing data - first 5 sample\n",
        "print('First 5 Independent Feature:-\\n', X_test[:5])\n",
        "print()\n",
        "print('Rescpective Dependent Feature:-\\n', y_test[:5])"
      ],
      "metadata": {
        "id": "2Uwi6zkm2s_O",
        "colab": {
          "base_uri": "https://localhost:8080/"
        },
        "outputId": "5d93e571-1a8e-46d3-dc98-363c15f06c51"
      },
      "id": "2Uwi6zkm2s_O",
      "execution_count": null,
      "outputs": [
        {
          "output_type": "stream",
          "name": "stdout",
          "text": [
            "First 5 Independent Feature:-\n",
            " [[0.72383636]\n",
            " [1.90012877]\n",
            " [0.12694282]\n",
            " [2.0264709 ]\n",
            " [2.64742922]]\n",
            "\n",
            "Rescpective Dependent Feature:-\n",
            " [[10.88938808]\n",
            " [13.35855419]\n",
            " [ 9.97441367]\n",
            " [13.56616042]\n",
            " [14.84235246]]\n"
          ]
        }
      ]
    },
    {
      "cell_type": "markdown",
      "source": [
        "#### Step 2: Import and Initialize\n",
        "\n",
        "**Import the necessary modules:-**\n",
        "- Import the `LinearRegression` class from scikit-learn's `linear_model` module.\n",
        "- [Here](https://github.com/scikit-learn/scikit-learn/blob/main/sklearn/linear_model/_base.py) is the official code from sklearn. Just press `ctrl+f` and search for `LinearRegression`.\n",
        "\n",
        "**Create a model instance:-**\n",
        "- Initialize a LinearRegression object.\n",
        "- This represents the linear relationship between the inputs and the target.\n"
      ],
      "metadata": {
        "id": "tM-h_gz-yEYV"
      },
      "id": "tM-h_gz-yEYV"
    },
    {
      "cell_type": "code",
      "source": [
        "from sklearn.linear_model import LinearRegression"
      ],
      "metadata": {
        "id": "35zR0qhudoQV"
      },
      "id": "35zR0qhudoQV",
      "execution_count": null,
      "outputs": []
    },
    {
      "cell_type": "code",
      "source": [
        "# Create the object of the Linear Regression\n",
        "sklearn_model = LinearRegression(fit_intercept=True,  # If true include intercept\n",
        "                                 copy_X=True,         # If true reserve a copy of X so that it remains unchanged\n",
        "                                 n_jobs=None,         # If none, single CPU core, no parallelization used\n",
        "                                 positive=False)      # If true, forces the coefficients to be positive"
      ],
      "metadata": {
        "id": "YSouZKZ9dzGy"
      },
      "id": "YSouZKZ9dzGy",
      "execution_count": null,
      "outputs": []
    },
    {
      "cell_type": "markdown",
      "source": [
        "#### Step 3: Training\n",
        "\n",
        "**Fit the model:-**\n",
        "- Use the `fit()` method of the model to train it on your data.\n",
        "- The algorithm learns the coefficients and intercept that define the linear relationship.\n",
        "\n",
        "**Learning process:-**\n",
        "- The algorithm internally uses the least squares optimization method.\n",
        "- It is used to minimize the sum of squared differences between the actual target values and the predicted values."
      ],
      "metadata": {
        "id": "ehaeO8A9zPl4"
      },
      "id": "ehaeO8A9zPl4"
    },
    {
      "cell_type": "code",
      "source": [
        "sklearn_model.fit(X_train, y_train)"
      ],
      "metadata": {
        "id": "iiOX2w3fzvWE",
        "colab": {
          "base_uri": "https://localhost:8080/",
          "height": 74
        },
        "outputId": "4c003524-bd74-4820-c3a7-eae72da61d12"
      },
      "id": "iiOX2w3fzvWE",
      "execution_count": null,
      "outputs": [
        {
          "output_type": "execute_result",
          "data": {
            "text/plain": [
              "LinearRegression()"
            ],
            "text/html": [
              "<style>#sk-container-id-1 {color: black;}#sk-container-id-1 pre{padding: 0;}#sk-container-id-1 div.sk-toggleable {background-color: white;}#sk-container-id-1 label.sk-toggleable__label {cursor: pointer;display: block;width: 100%;margin-bottom: 0;padding: 0.3em;box-sizing: border-box;text-align: center;}#sk-container-id-1 label.sk-toggleable__label-arrow:before {content: \"▸\";float: left;margin-right: 0.25em;color: #696969;}#sk-container-id-1 label.sk-toggleable__label-arrow:hover:before {color: black;}#sk-container-id-1 div.sk-estimator:hover label.sk-toggleable__label-arrow:before {color: black;}#sk-container-id-1 div.sk-toggleable__content {max-height: 0;max-width: 0;overflow: hidden;text-align: left;background-color: #f0f8ff;}#sk-container-id-1 div.sk-toggleable__content pre {margin: 0.2em;color: black;border-radius: 0.25em;background-color: #f0f8ff;}#sk-container-id-1 input.sk-toggleable__control:checked~div.sk-toggleable__content {max-height: 200px;max-width: 100%;overflow: auto;}#sk-container-id-1 input.sk-toggleable__control:checked~label.sk-toggleable__label-arrow:before {content: \"▾\";}#sk-container-id-1 div.sk-estimator input.sk-toggleable__control:checked~label.sk-toggleable__label {background-color: #d4ebff;}#sk-container-id-1 div.sk-label input.sk-toggleable__control:checked~label.sk-toggleable__label {background-color: #d4ebff;}#sk-container-id-1 input.sk-hidden--visually {border: 0;clip: rect(1px 1px 1px 1px);clip: rect(1px, 1px, 1px, 1px);height: 1px;margin: -1px;overflow: hidden;padding: 0;position: absolute;width: 1px;}#sk-container-id-1 div.sk-estimator {font-family: monospace;background-color: #f0f8ff;border: 1px dotted black;border-radius: 0.25em;box-sizing: border-box;margin-bottom: 0.5em;}#sk-container-id-1 div.sk-estimator:hover {background-color: #d4ebff;}#sk-container-id-1 div.sk-parallel-item::after {content: \"\";width: 100%;border-bottom: 1px solid gray;flex-grow: 1;}#sk-container-id-1 div.sk-label:hover label.sk-toggleable__label {background-color: #d4ebff;}#sk-container-id-1 div.sk-serial::before {content: \"\";position: absolute;border-left: 1px solid gray;box-sizing: border-box;top: 0;bottom: 0;left: 50%;z-index: 0;}#sk-container-id-1 div.sk-serial {display: flex;flex-direction: column;align-items: center;background-color: white;padding-right: 0.2em;padding-left: 0.2em;position: relative;}#sk-container-id-1 div.sk-item {position: relative;z-index: 1;}#sk-container-id-1 div.sk-parallel {display: flex;align-items: stretch;justify-content: center;background-color: white;position: relative;}#sk-container-id-1 div.sk-item::before, #sk-container-id-1 div.sk-parallel-item::before {content: \"\";position: absolute;border-left: 1px solid gray;box-sizing: border-box;top: 0;bottom: 0;left: 50%;z-index: -1;}#sk-container-id-1 div.sk-parallel-item {display: flex;flex-direction: column;z-index: 1;position: relative;background-color: white;}#sk-container-id-1 div.sk-parallel-item:first-child::after {align-self: flex-end;width: 50%;}#sk-container-id-1 div.sk-parallel-item:last-child::after {align-self: flex-start;width: 50%;}#sk-container-id-1 div.sk-parallel-item:only-child::after {width: 0;}#sk-container-id-1 div.sk-dashed-wrapped {border: 1px dashed gray;margin: 0 0.4em 0.5em 0.4em;box-sizing: border-box;padding-bottom: 0.4em;background-color: white;}#sk-container-id-1 div.sk-label label {font-family: monospace;font-weight: bold;display: inline-block;line-height: 1.2em;}#sk-container-id-1 div.sk-label-container {text-align: center;}#sk-container-id-1 div.sk-container {/* jupyter's `normalize.less` sets `[hidden] { display: none; }` but bootstrap.min.css set `[hidden] { display: none !important; }` so we also need the `!important` here to be able to override the default hidden behavior on the sphinx rendered scikit-learn.org. See: https://github.com/scikit-learn/scikit-learn/issues/21755 */display: inline-block !important;position: relative;}#sk-container-id-1 div.sk-text-repr-fallback {display: none;}</style><div id=\"sk-container-id-1\" class=\"sk-top-container\"><div class=\"sk-text-repr-fallback\"><pre>LinearRegression()</pre><b>In a Jupyter environment, please rerun this cell to show the HTML representation or trust the notebook. <br />On GitHub, the HTML representation is unable to render, please try loading this page with nbviewer.org.</b></div><div class=\"sk-container\" hidden><div class=\"sk-item\"><div class=\"sk-estimator sk-toggleable\"><input class=\"sk-toggleable__control sk-hidden--visually\" id=\"sk-estimator-id-1\" type=\"checkbox\" checked><label for=\"sk-estimator-id-1\" class=\"sk-toggleable__label sk-toggleable__label-arrow\">LinearRegression</label><div class=\"sk-toggleable__content\"><pre>LinearRegression()</pre></div></div></div></div></div>"
            ]
          },
          "metadata": {},
          "execution_count": 43
        }
      ]
    },
    {
      "cell_type": "code",
      "source": [
        "print('Scikit-Learn model:-')\n",
        "print('Optimal Weight = {}'.format(sklearn_model.coef_[0][0]))\n",
        "print('Optimal Bias = {}'.format(sklearn_model.intercept_[0]))\n",
        "\n",
        "print()\n",
        "\n",
        "print('Scratch model:-')\n",
        "print('Optimal Weight = {}'.format(weights[-1]))\n",
        "print('Optimal Bias = {}'.format(biases[-1]))"
      ],
      "metadata": {
        "id": "W6OmdUiCfe7m",
        "colab": {
          "base_uri": "https://localhost:8080/"
        },
        "outputId": "187f4188-a4d9-4232-b00a-830f468a3687"
      },
      "id": "W6OmdUiCfe7m",
      "execution_count": null,
      "outputs": [
        {
          "output_type": "stream",
          "name": "stdout",
          "text": [
            "Scikit-Learn model:-\n",
            "Optimal Weight = 1.9820106046856956\n",
            "Optimal Bias = 9.500387880985212\n",
            "\n",
            "Scratch model:-\n",
            "Optimal Weight = 1.982014510179785\n",
            "Optimal Bias = 9.500380403136907\n"
          ]
        }
      ]
    },
    {
      "cell_type": "markdown",
      "source": [
        "#### Step 4: Prediction\n",
        "\n",
        "**Make predictions:-**\n",
        "- Once the model is trained, you can use the `predict()` method to make predictions on new data points.\n",
        "- The model applies the learned linear relationship to these inputs."
      ],
      "metadata": {
        "id": "WKoJswlAz37-"
      },
      "id": "WKoJswlAz37-"
    },
    {
      "cell_type": "code",
      "source": [
        "predictions = sklearn_model.predict(X_test)\n",
        "mse_skl = np.mean((y_test - predictions)**2)\n",
        "print(f\"The MSE value of sklearn model:- {round(mse_skl, 5)} (5dp)\")\n",
        "print(f\"The MSE value of scratch model:- {round(mse, 5)} (5dp)\")"
      ],
      "metadata": {
        "id": "xvyW8fice8eg",
        "colab": {
          "base_uri": "https://localhost:8080/"
        },
        "outputId": "40706e1f-980c-40c6-abd5-2e1f6c4ce295"
      },
      "id": "xvyW8fice8eg",
      "execution_count": null,
      "outputs": [
        {
          "output_type": "stream",
          "name": "stdout",
          "text": [
            "The MSE value of sklearn model:- 0.02023 (5dp)\n",
            "The MSE value of scratch model:- 0.02023 (5dp)\n"
          ]
        }
      ]
    },
    {
      "cell_type": "markdown",
      "source": [
        "* Both the Gradient Desecent and Ordinary Least Square Regression methods are performing well!"
      ],
      "metadata": {
        "id": "S_2mJ2KQq2xp"
      },
      "id": "S_2mJ2KQq2xp"
    },
    {
      "cell_type": "code",
      "source": [
        "# Visualise the performance of the test data\n",
        "plt.figure(figsize = (10,5))\n",
        "plt.plot(X_test, prediction, color=\"k\", label=\"predicted\", linewidth = 0.7)\n",
        "plt.plot(X_test, predictions,  \"g--\", label=\"predicted\", linewidth = 0.7)\n",
        "plt.scatter(X_test, y_test, color=\"c\", label=\"original\", marker = 'x', s = 20, zorder = 2)\n",
        "plt.title(f\"Visulaising the performance on the test data\", color = 'red')\n",
        "plt.xlabel(\"Test Inputs\", color = 'm', fontsize = 11)\n",
        "plt.ylabel(\"Star Property\", color = 'm', fontsize = 11)\n",
        "plt.legend(['Scratch Model', 'Scikit-Learn Model', 'True Values', ], loc = 'lower right')\n",
        "plt.show()"
      ],
      "metadata": {
        "id": "7Z521_QjhK2M",
        "colab": {
          "base_uri": "https://localhost:8080/",
          "height": 488
        },
        "outputId": "2e879b42-f0a2-417f-882e-1d06ec1efcff"
      },
      "id": "7Z521_QjhK2M",
      "execution_count": null,
      "outputs": [
        {
          "output_type": "display_data",
          "data": {
            "text/plain": [
              "<Figure size 1000x500 with 1 Axes>"
            ],
            "image/png": "[encoded data removed]"
          },
          "metadata": {}
        }
      ]
    },
    {
      "cell_type": "markdown",
      "source": [
        "* Just look at how similar predictions we are getting!\n",
        "* Now that you have learnt gradient descent algorithm, it will be very useful in some of the upcoming lectures."
      ],
      "metadata": {
        "id": "wCBTnxRcq_6H"
      },
      "id": "wCBTnxRcq_6H"
    },
    {
      "cell_type": "markdown",
      "source": [
        "### Ending Notes\n",
        "- Remember, while Linear Regression is powerful, it's just the beginning.\n",
        "- Machine learning offers a vast array of algorithms for different tasks, each with its strengths and weaknesses.\n",
        "- We shall dive deeper into this exciting field to explore more advanced techniques in the upcoming days."
      ],
      "metadata": {
        "id": "qaqHdMI31KdC"
      },
      "id": "qaqHdMI31KdC"
    },
    {
      "cell_type": "markdown",
      "source": [
        "---"
      ],
      "metadata": {
        "id": "ILDZ0rPTaEJb"
      },
      "id": "ILDZ0rPTaEJb"
    }
  ]
}